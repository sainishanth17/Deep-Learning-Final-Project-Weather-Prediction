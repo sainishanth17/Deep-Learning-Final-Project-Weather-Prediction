{
 "cells": [
  {
   "cell_type": "code",
   "execution_count": 1,
   "metadata": {},
   "outputs": [
    {
     "name": "stdout",
     "output_type": "stream",
     "text": [
      "Package                 Version\r\n",
      "----------------------- ---------\r\n",
      "absl-py                 0.13.0\r\n",
      "appnope                 0.1.2\r\n",
      "argcomplete             1.12.3\r\n",
      "astunparse              1.6.3\r\n",
      "backcall                0.2.0\r\n",
      "cached-property         1.5.2\r\n",
      "cachetools              4.2.2\r\n",
      "certifi                 2021.5.30\r\n",
      "charset-normalizer      2.0.6\r\n",
      "clang                   5.0\r\n",
      "debugpy                 1.4.3\r\n",
      "decorator               5.1.0\r\n",
      "entrypoints             0.3\r\n",
      "flatbuffers             1.12\r\n",
      "gast                    0.4.0\r\n",
      "google-auth             1.35.0\r\n",
      "google-auth-oauthlib    0.4.6\r\n",
      "google-pasta            0.2.0\r\n",
      "grpcio                  1.40.0\r\n",
      "h5py                    3.1.0\r\n",
      "idna                    3.2\r\n",
      "importlib-metadata      4.8.1\r\n",
      "ipykernel               6.4.1\r\n",
      "ipython                 7.27.0\r\n",
      "ipython-genutils        0.2.0\r\n",
      "jedi                    0.18.0\r\n",
      "jupyter-client          7.0.3\r\n",
      "jupyter-core            4.8.1\r\n",
      "keras                   2.6.0\r\n",
      "Keras-Preprocessing     1.1.2\r\n",
      "Markdown                3.3.4\r\n",
      "matplotlib-inline       0.1.3\r\n",
      "nest-asyncio            1.5.1\r\n",
      "numpy                   1.19.5\r\n",
      "oauthlib                3.1.1\r\n",
      "opt-einsum              3.3.0\r\n",
      "pandas                  1.3.3\r\n",
      "parso                   0.8.2\r\n",
      "pexpect                 4.8.0\r\n",
      "pickleshare             0.7.5\r\n",
      "pip                     21.2.4\r\n",
      "prompt-toolkit          3.0.20\r\n",
      "protobuf                3.18.0\r\n",
      "ptyprocess              0.7.0\r\n",
      "pyasn1                  0.4.8\r\n",
      "pyasn1-modules          0.2.8\r\n",
      "Pygments                2.10.0\r\n",
      "pyspark                 2.4.3\r\n",
      "python-dateutil         2.8.2\r\n",
      "pytz                    2021.1\r\n",
      "pyzmq                   22.3.0\r\n",
      "requests                2.26.0\r\n",
      "requests-oauthlib       1.3.0\r\n",
      "rsa                     4.7.2\r\n",
      "setuptools              57.4.0\r\n",
      "six                     1.15.0\r\n",
      "style                   1.1.0\r\n",
      "tensorboard             2.6.0\r\n",
      "tensorboard-data-server 0.6.1\r\n",
      "tensorboard-plugin-wit  1.8.0\r\n",
      "tensorflow              2.6.0\r\n",
      "tensorflow-estimator    2.6.0\r\n",
      "termcolor               1.1.0\r\n",
      "tornado                 6.1\r\n",
      "traitlets               5.1.0\r\n",
      "typing-extensions       3.7.4.3\r\n",
      "update                  0.0.1\r\n",
      "urllib3                 1.26.6\r\n",
      "wcwidth                 0.2.5\r\n",
      "Werkzeug                2.0.1\r\n",
      "wheel                   0.37.0\r\n",
      "wrapt                   1.12.1\r\n",
      "zipp                    3.5.0\r\n"
     ]
    }
   ],
   "source": [
    "!pip list"
   ]
  },
  {
   "cell_type": "code",
   "execution_count": 5,
   "metadata": {},
   "outputs": [],
   "source": [
    "# !pip install --upgrade tensorflow"
   ]
  },
  {
   "cell_type": "code",
   "execution_count": 2,
   "metadata": {},
   "outputs": [
    {
     "data": {
      "text/plain": [
       "'2.6.0'"
      ]
     },
     "execution_count": 2,
     "metadata": {},
     "output_type": "execute_result"
    }
   ],
   "source": [
    "import tensorflow as tf\n",
    "tf.__version__"
   ]
  },
  {
   "cell_type": "code",
   "execution_count": null,
   "metadata": {},
   "outputs": [],
   "source": []
  },
  {
   "cell_type": "code",
   "execution_count": null,
   "metadata": {},
   "outputs": [],
   "source": []
  },
  {
   "cell_type": "code",
   "execution_count": null,
   "metadata": {},
   "outputs": [],
   "source": []
  },
  {
   "cell_type": "code",
   "execution_count": null,
   "metadata": {},
   "outputs": [],
   "source": []
  },
  {
   "cell_type": "code",
   "execution_count": null,
   "metadata": {},
   "outputs": [],
   "source": []
  },
  {
   "cell_type": "code",
   "execution_count": null,
   "metadata": {},
   "outputs": [],
   "source": []
  }
 ],
 "metadata": {
  "kernelspec": {
   "display_name": "env",
   "language": "python",
   "name": "env"
  },
  "language_info": {
   "codemirror_mode": {
    "name": "ipython",
    "version": 3
   },
   "file_extension": ".py",
   "mimetype": "text/x-python",
   "name": "python",
   "nbconvert_exporter": "python",
   "pygments_lexer": "ipython3",
   "version": "3.7.1"
  }
 },
 "nbformat": 4,
 "nbformat_minor": 2
}
